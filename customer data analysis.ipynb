{
 "cells": [
  {
   "cell_type": "markdown",
   "id": "8d27f560-c8e3-45f4-93ad-1695581f714d",
   "metadata": {},
   "source": [
    "##### <center><h1><U> Customer Data Analysis</U></h1></center>"
   ]
  },
  {
   "cell_type": "markdown",
   "id": "17e19584-0de6-4873-a0fe-9f6f69b201a5",
   "metadata": {},
   "source": [
    "**1.Import necessary libraries**"
   ]
  },
  {
   "cell_type": "code",
   "execution_count": 2,
   "id": "0fa96b2b-4758-4b96-8e24-160146844b96",
   "metadata": {},
   "outputs": [],
   "source": [
    "import pandas as pd\n",
    "import matplotlib.pyplot as plt\n",
    "import seaborn as sns"
   ]
  },
  {
   "cell_type": "markdown",
   "id": "d6693fd8-ad59-45a2-827f-432e8694d947",
   "metadata": {},
   "source": [
    "**2.Import dataset**"
   ]
  },
  {
   "cell_type": "code",
   "execution_count": 3,
   "id": "60d8041d-f17c-4809-a38f-e41852b7e948",
   "metadata": {},
   "outputs": [
    {
     "data": {
      "text/html": [
       "<div>\n",
       "<style scoped>\n",
       "    .dataframe tbody tr th:only-of-type {\n",
       "        vertical-align: middle;\n",
       "    }\n",
       "\n",
       "    .dataframe tbody tr th {\n",
       "        vertical-align: top;\n",
       "    }\n",
       "\n",
       "    .dataframe thead th {\n",
       "        text-align: right;\n",
       "    }\n",
       "</style>\n",
       "<table border=\"1\" class=\"dataframe\">\n",
       "  <thead>\n",
       "    <tr style=\"text-align: right;\">\n",
       "      <th></th>\n",
       "      <th>Customer ID</th>\n",
       "      <th>Purchase Date</th>\n",
       "      <th>Product Category</th>\n",
       "      <th>Product Price</th>\n",
       "      <th>Quantity</th>\n",
       "      <th>Total Purchase Amount</th>\n",
       "      <th>Payment Method</th>\n",
       "      <th>Customer Age</th>\n",
       "      <th>Returns</th>\n",
       "      <th>Customer Name</th>\n",
       "      <th>Age</th>\n",
       "      <th>Gender</th>\n",
       "      <th>Churn</th>\n",
       "    </tr>\n",
       "  </thead>\n",
       "  <tbody>\n",
       "    <tr>\n",
       "      <th>0</th>\n",
       "      <td>44605</td>\n",
       "      <td>2023-05-03 21:30:02</td>\n",
       "      <td>Home</td>\n",
       "      <td>177</td>\n",
       "      <td>1</td>\n",
       "      <td>2427</td>\n",
       "      <td>PayPal</td>\n",
       "      <td>31</td>\n",
       "      <td>1.0</td>\n",
       "      <td>John Rivera</td>\n",
       "      <td>31</td>\n",
       "      <td>Female</td>\n",
       "      <td>0</td>\n",
       "    </tr>\n",
       "    <tr>\n",
       "      <th>1</th>\n",
       "      <td>44605</td>\n",
       "      <td>2021-05-16 13:57:44</td>\n",
       "      <td>Electronics</td>\n",
       "      <td>174</td>\n",
       "      <td>3</td>\n",
       "      <td>2448</td>\n",
       "      <td>PayPal</td>\n",
       "      <td>31</td>\n",
       "      <td>1.0</td>\n",
       "      <td>John Rivera</td>\n",
       "      <td>31</td>\n",
       "      <td>Female</td>\n",
       "      <td>0</td>\n",
       "    </tr>\n",
       "    <tr>\n",
       "      <th>2</th>\n",
       "      <td>44605</td>\n",
       "      <td>2020-07-13 06:16:57</td>\n",
       "      <td>Books</td>\n",
       "      <td>413</td>\n",
       "      <td>1</td>\n",
       "      <td>2345</td>\n",
       "      <td>Credit Card</td>\n",
       "      <td>31</td>\n",
       "      <td>1.0</td>\n",
       "      <td>John Rivera</td>\n",
       "      <td>31</td>\n",
       "      <td>Female</td>\n",
       "      <td>0</td>\n",
       "    </tr>\n",
       "    <tr>\n",
       "      <th>3</th>\n",
       "      <td>44605</td>\n",
       "      <td>2023-01-17 13:14:36</td>\n",
       "      <td>Electronics</td>\n",
       "      <td>396</td>\n",
       "      <td>3</td>\n",
       "      <td>937</td>\n",
       "      <td>Cash</td>\n",
       "      <td>31</td>\n",
       "      <td>0.0</td>\n",
       "      <td>John Rivera</td>\n",
       "      <td>31</td>\n",
       "      <td>Female</td>\n",
       "      <td>0</td>\n",
       "    </tr>\n",
       "    <tr>\n",
       "      <th>4</th>\n",
       "      <td>44605</td>\n",
       "      <td>2021-05-01 11:29:27</td>\n",
       "      <td>Books</td>\n",
       "      <td>259</td>\n",
       "      <td>4</td>\n",
       "      <td>2598</td>\n",
       "      <td>PayPal</td>\n",
       "      <td>31</td>\n",
       "      <td>1.0</td>\n",
       "      <td>John Rivera</td>\n",
       "      <td>31</td>\n",
       "      <td>Female</td>\n",
       "      <td>0</td>\n",
       "    </tr>\n",
       "    <tr>\n",
       "      <th>...</th>\n",
       "      <td>...</td>\n",
       "      <td>...</td>\n",
       "      <td>...</td>\n",
       "      <td>...</td>\n",
       "      <td>...</td>\n",
       "      <td>...</td>\n",
       "      <td>...</td>\n",
       "      <td>...</td>\n",
       "      <td>...</td>\n",
       "      <td>...</td>\n",
       "      <td>...</td>\n",
       "      <td>...</td>\n",
       "      <td>...</td>\n",
       "    </tr>\n",
       "    <tr>\n",
       "      <th>249995</th>\n",
       "      <td>33807</td>\n",
       "      <td>2023-01-24 12:32:18</td>\n",
       "      <td>Home</td>\n",
       "      <td>436</td>\n",
       "      <td>1</td>\n",
       "      <td>3664</td>\n",
       "      <td>Cash</td>\n",
       "      <td>63</td>\n",
       "      <td>0.0</td>\n",
       "      <td>Gabriel Williams</td>\n",
       "      <td>63</td>\n",
       "      <td>Male</td>\n",
       "      <td>0</td>\n",
       "    </tr>\n",
       "    <tr>\n",
       "      <th>249996</th>\n",
       "      <td>20455</td>\n",
       "      <td>2021-06-04 05:45:25</td>\n",
       "      <td>Electronics</td>\n",
       "      <td>233</td>\n",
       "      <td>1</td>\n",
       "      <td>4374</td>\n",
       "      <td>Credit Card</td>\n",
       "      <td>66</td>\n",
       "      <td>1.0</td>\n",
       "      <td>Barry Foster</td>\n",
       "      <td>66</td>\n",
       "      <td>Female</td>\n",
       "      <td>0</td>\n",
       "    </tr>\n",
       "    <tr>\n",
       "      <th>249997</th>\n",
       "      <td>28055</td>\n",
       "      <td>2022-11-10 17:11:57</td>\n",
       "      <td>Electronics</td>\n",
       "      <td>441</td>\n",
       "      <td>5</td>\n",
       "      <td>5296</td>\n",
       "      <td>Cash</td>\n",
       "      <td>63</td>\n",
       "      <td>NaN</td>\n",
       "      <td>Lisa Johnson</td>\n",
       "      <td>63</td>\n",
       "      <td>Female</td>\n",
       "      <td>0</td>\n",
       "    </tr>\n",
       "    <tr>\n",
       "      <th>249998</th>\n",
       "      <td>15023</td>\n",
       "      <td>2021-06-27 14:42:12</td>\n",
       "      <td>Electronics</td>\n",
       "      <td>44</td>\n",
       "      <td>2</td>\n",
       "      <td>2517</td>\n",
       "      <td>Cash</td>\n",
       "      <td>64</td>\n",
       "      <td>1.0</td>\n",
       "      <td>Melissa Fernandez</td>\n",
       "      <td>64</td>\n",
       "      <td>Male</td>\n",
       "      <td>0</td>\n",
       "    </tr>\n",
       "    <tr>\n",
       "      <th>249999</th>\n",
       "      <td>4148</td>\n",
       "      <td>2020-09-07 05:12:19</td>\n",
       "      <td>Home</td>\n",
       "      <td>307</td>\n",
       "      <td>5</td>\n",
       "      <td>3634</td>\n",
       "      <td>Cash</td>\n",
       "      <td>32</td>\n",
       "      <td>0.0</td>\n",
       "      <td>Angela Norton</td>\n",
       "      <td>32</td>\n",
       "      <td>Male</td>\n",
       "      <td>0</td>\n",
       "    </tr>\n",
       "  </tbody>\n",
       "</table>\n",
       "<p>250000 rows × 13 columns</p>\n",
       "</div>"
      ],
      "text/plain": [
       "        Customer ID        Purchase Date Product Category  Product Price  \\\n",
       "0             44605  2023-05-03 21:30:02             Home            177   \n",
       "1             44605  2021-05-16 13:57:44      Electronics            174   \n",
       "2             44605  2020-07-13 06:16:57            Books            413   \n",
       "3             44605  2023-01-17 13:14:36      Electronics            396   \n",
       "4             44605  2021-05-01 11:29:27            Books            259   \n",
       "...             ...                  ...              ...            ...   \n",
       "249995        33807  2023-01-24 12:32:18             Home            436   \n",
       "249996        20455  2021-06-04 05:45:25      Electronics            233   \n",
       "249997        28055  2022-11-10 17:11:57      Electronics            441   \n",
       "249998        15023  2021-06-27 14:42:12      Electronics             44   \n",
       "249999         4148  2020-09-07 05:12:19             Home            307   \n",
       "\n",
       "        Quantity  Total Purchase Amount Payment Method  Customer Age  Returns  \\\n",
       "0              1                   2427         PayPal            31      1.0   \n",
       "1              3                   2448         PayPal            31      1.0   \n",
       "2              1                   2345    Credit Card            31      1.0   \n",
       "3              3                    937           Cash            31      0.0   \n",
       "4              4                   2598         PayPal            31      1.0   \n",
       "...          ...                    ...            ...           ...      ...   \n",
       "249995         1                   3664           Cash            63      0.0   \n",
       "249996         1                   4374    Credit Card            66      1.0   \n",
       "249997         5                   5296           Cash            63      NaN   \n",
       "249998         2                   2517           Cash            64      1.0   \n",
       "249999         5                   3634           Cash            32      0.0   \n",
       "\n",
       "            Customer Name  Age  Gender  Churn  \n",
       "0             John Rivera   31  Female      0  \n",
       "1             John Rivera   31  Female      0  \n",
       "2             John Rivera   31  Female      0  \n",
       "3             John Rivera   31  Female      0  \n",
       "4             John Rivera   31  Female      0  \n",
       "...                   ...  ...     ...    ...  \n",
       "249995   Gabriel Williams   63    Male      0  \n",
       "249996       Barry Foster   66  Female      0  \n",
       "249997       Lisa Johnson   63  Female      0  \n",
       "249998  Melissa Fernandez   64    Male      0  \n",
       "249999      Angela Norton   32    Male      0  \n",
       "\n",
       "[250000 rows x 13 columns]"
      ]
     },
     "execution_count": 3,
     "metadata": {},
     "output_type": "execute_result"
    }
   ],
   "source": [
    "data = pd.read_csv('ecommerce_customer_data_large.csv')\n",
    "data"
   ]
  },
  {
   "cell_type": "markdown",
   "id": "b02f9e73-b5e8-4f0f-8269-6e55ae4b5ad4",
   "metadata": {},
   "source": [
    "**3.To get the information of dataset**"
   ]
  },
  {
   "cell_type": "code",
   "execution_count": 4,
   "id": "915c2206-8bcb-45bf-bcb8-932cdf9db662",
   "metadata": {},
   "outputs": [
    {
     "name": "stdout",
     "output_type": "stream",
     "text": [
      "<class 'pandas.core.frame.DataFrame'>\n",
      "RangeIndex: 250000 entries, 0 to 249999\n",
      "Data columns (total 13 columns):\n",
      " #   Column                 Non-Null Count   Dtype  \n",
      "---  ------                 --------------   -----  \n",
      " 0   Customer ID            250000 non-null  int64  \n",
      " 1   Purchase Date          250000 non-null  object \n",
      " 2   Product Category       250000 non-null  object \n",
      " 3   Product Price          250000 non-null  int64  \n",
      " 4   Quantity               250000 non-null  int64  \n",
      " 5   Total Purchase Amount  250000 non-null  int64  \n",
      " 6   Payment Method         250000 non-null  object \n",
      " 7   Customer Age           250000 non-null  int64  \n",
      " 8   Returns                202618 non-null  float64\n",
      " 9   Customer Name          250000 non-null  object \n",
      " 10  Age                    250000 non-null  int64  \n",
      " 11  Gender                 250000 non-null  object \n",
      " 12  Churn                  250000 non-null  int64  \n",
      "dtypes: float64(1), int64(7), object(5)\n",
      "memory usage: 24.8+ MB\n"
     ]
    }
   ],
   "source": [
    "data.info()\n"
   ]
  },
  {
   "cell_type": "markdown",
   "id": "9092d7d5-66fe-46fc-b01c-76d0654c2448",
   "metadata": {},
   "source": [
    "**4. Statistical summary**"
   ]
  },
  {
   "cell_type": "code",
   "execution_count": 21,
   "id": "354c4647-8ec0-415c-a64b-065e5a2f7b56",
   "metadata": {},
   "outputs": [
    {
     "data": {
      "text/html": [
       "<div>\n",
       "<style scoped>\n",
       "    .dataframe tbody tr th:only-of-type {\n",
       "        vertical-align: middle;\n",
       "    }\n",
       "\n",
       "    .dataframe tbody tr th {\n",
       "        vertical-align: top;\n",
       "    }\n",
       "\n",
       "    .dataframe thead th {\n",
       "        text-align: right;\n",
       "    }\n",
       "</style>\n",
       "<table border=\"1\" class=\"dataframe\">\n",
       "  <thead>\n",
       "    <tr style=\"text-align: right;\">\n",
       "      <th></th>\n",
       "      <th>Customer ID</th>\n",
       "      <th>Product Price</th>\n",
       "      <th>Quantity</th>\n",
       "      <th>Total Purchase Amount</th>\n",
       "      <th>Customer Age</th>\n",
       "      <th>Returns</th>\n",
       "      <th>Age</th>\n",
       "      <th>Churn</th>\n",
       "    </tr>\n",
       "  </thead>\n",
       "  <tbody>\n",
       "    <tr>\n",
       "      <th>count</th>\n",
       "      <td>250000.000000</td>\n",
       "      <td>250000.000000</td>\n",
       "      <td>250000.000000</td>\n",
       "      <td>250000.000000</td>\n",
       "      <td>250000.000000</td>\n",
       "      <td>202618.000000</td>\n",
       "      <td>250000.000000</td>\n",
       "      <td>250000.00000</td>\n",
       "    </tr>\n",
       "    <tr>\n",
       "      <th>mean</th>\n",
       "      <td>25017.632092</td>\n",
       "      <td>254.742724</td>\n",
       "      <td>3.004936</td>\n",
       "      <td>2725.385196</td>\n",
       "      <td>43.798276</td>\n",
       "      <td>0.500824</td>\n",
       "      <td>43.798276</td>\n",
       "      <td>0.20052</td>\n",
       "    </tr>\n",
       "    <tr>\n",
       "      <th>std</th>\n",
       "      <td>14412.515718</td>\n",
       "      <td>141.738104</td>\n",
       "      <td>1.414737</td>\n",
       "      <td>1442.576095</td>\n",
       "      <td>15.364915</td>\n",
       "      <td>0.500001</td>\n",
       "      <td>15.364915</td>\n",
       "      <td>0.40039</td>\n",
       "    </tr>\n",
       "    <tr>\n",
       "      <th>min</th>\n",
       "      <td>1.000000</td>\n",
       "      <td>10.000000</td>\n",
       "      <td>1.000000</td>\n",
       "      <td>100.000000</td>\n",
       "      <td>18.000000</td>\n",
       "      <td>0.000000</td>\n",
       "      <td>18.000000</td>\n",
       "      <td>0.00000</td>\n",
       "    </tr>\n",
       "    <tr>\n",
       "      <th>25%</th>\n",
       "      <td>12590.000000</td>\n",
       "      <td>132.000000</td>\n",
       "      <td>2.000000</td>\n",
       "      <td>1476.000000</td>\n",
       "      <td>30.000000</td>\n",
       "      <td>0.000000</td>\n",
       "      <td>30.000000</td>\n",
       "      <td>0.00000</td>\n",
       "    </tr>\n",
       "    <tr>\n",
       "      <th>50%</th>\n",
       "      <td>25011.000000</td>\n",
       "      <td>255.000000</td>\n",
       "      <td>3.000000</td>\n",
       "      <td>2725.000000</td>\n",
       "      <td>44.000000</td>\n",
       "      <td>1.000000</td>\n",
       "      <td>44.000000</td>\n",
       "      <td>0.00000</td>\n",
       "    </tr>\n",
       "    <tr>\n",
       "      <th>75%</th>\n",
       "      <td>37441.250000</td>\n",
       "      <td>377.000000</td>\n",
       "      <td>4.000000</td>\n",
       "      <td>3975.000000</td>\n",
       "      <td>57.000000</td>\n",
       "      <td>1.000000</td>\n",
       "      <td>57.000000</td>\n",
       "      <td>0.00000</td>\n",
       "    </tr>\n",
       "    <tr>\n",
       "      <th>max</th>\n",
       "      <td>50000.000000</td>\n",
       "      <td>500.000000</td>\n",
       "      <td>5.000000</td>\n",
       "      <td>5350.000000</td>\n",
       "      <td>70.000000</td>\n",
       "      <td>1.000000</td>\n",
       "      <td>70.000000</td>\n",
       "      <td>1.00000</td>\n",
       "    </tr>\n",
       "  </tbody>\n",
       "</table>\n",
       "</div>"
      ],
      "text/plain": [
       "         Customer ID  Product Price       Quantity  Total Purchase Amount  \\\n",
       "count  250000.000000  250000.000000  250000.000000          250000.000000   \n",
       "mean    25017.632092     254.742724       3.004936            2725.385196   \n",
       "std     14412.515718     141.738104       1.414737            1442.576095   \n",
       "min         1.000000      10.000000       1.000000             100.000000   \n",
       "25%     12590.000000     132.000000       2.000000            1476.000000   \n",
       "50%     25011.000000     255.000000       3.000000            2725.000000   \n",
       "75%     37441.250000     377.000000       4.000000            3975.000000   \n",
       "max     50000.000000     500.000000       5.000000            5350.000000   \n",
       "\n",
       "        Customer Age        Returns            Age         Churn  \n",
       "count  250000.000000  202618.000000  250000.000000  250000.00000  \n",
       "mean       43.798276       0.500824      43.798276       0.20052  \n",
       "std        15.364915       0.500001      15.364915       0.40039  \n",
       "min        18.000000       0.000000      18.000000       0.00000  \n",
       "25%        30.000000       0.000000      30.000000       0.00000  \n",
       "50%        44.000000       1.000000      44.000000       0.00000  \n",
       "75%        57.000000       1.000000      57.000000       0.00000  \n",
       "max        70.000000       1.000000      70.000000       1.00000  "
      ]
     },
     "execution_count": 21,
     "metadata": {},
     "output_type": "execute_result"
    }
   ],
   "source": [
    "data.describe()"
   ]
  },
  {
   "cell_type": "markdown",
   "id": "b0dd7947-d790-4baf-a690-6c06248dae7e",
   "metadata": {},
   "source": [
    "**5.Data cleaning**"
   ]
  },
  {
   "cell_type": "code",
   "execution_count": 5,
   "id": "87052349-881f-47ce-ae25-18cf50f390c2",
   "metadata": {},
   "outputs": [
    {
     "name": "stdout",
     "output_type": "stream",
     "text": [
      "Null values before dropna:\n",
      " Customer ID                  0\n",
      "Purchase Date                0\n",
      "Product Category             0\n",
      "Product Price                0\n",
      "Quantity                     0\n",
      "Total Purchase Amount        0\n",
      "Payment Method               0\n",
      "Customer Age                 0\n",
      "Returns                  47382\n",
      "Customer Name                0\n",
      "Age                          0\n",
      "Gender                       0\n",
      "Churn                        0\n",
      "dtype: int64\n"
     ]
    }
   ],
   "source": [
    "print(\"Null values before dropna:\\n\", data.isnull().sum())"
   ]
  },
  {
   "cell_type": "code",
   "execution_count": 6,
   "id": "565758c6-0c2e-45f2-b580-98f88540e68e",
   "metadata": {},
   "outputs": [],
   "source": [
    "data_cleaned = data.dropna()"
   ]
  },
  {
   "cell_type": "code",
   "execution_count": 7,
   "id": "1abbb976-d954-4bdc-9268-ef3fa7383b79",
   "metadata": {},
   "outputs": [
    {
     "name": "stdout",
     "output_type": "stream",
     "text": [
      "\n",
      "Null values after dropna:\n",
      " Customer ID              0\n",
      "Purchase Date            0\n",
      "Product Category         0\n",
      "Product Price            0\n",
      "Quantity                 0\n",
      "Total Purchase Amount    0\n",
      "Payment Method           0\n",
      "Customer Age             0\n",
      "Returns                  0\n",
      "Customer Name            0\n",
      "Age                      0\n",
      "Gender                   0\n",
      "Churn                    0\n",
      "dtype: int64\n"
     ]
    }
   ],
   "source": [
    "print(\"\\nNull values after dropna:\\n\", data_cleaned.isnull().sum())"
   ]
  },
  {
   "cell_type": "code",
   "execution_count": 8,
   "id": "1490e078-a66a-40b2-ab27-0e187e2ac8f3",
   "metadata": {},
   "outputs": [
    {
     "name": "stdout",
     "output_type": "stream",
     "text": [
      "\n",
      "Number of rows before dropna: 250000\n",
      "Number of rows after dropna: 202618\n"
     ]
    }
   ],
   "source": [
    "print(f\"\\nNumber of rows before dropna: {data.shape[0]}\")\n",
    "print(f\"Number of rows after dropna: {data_cleaned.shape[0]}\")"
   ]
  },
  {
   "cell_type": "code",
   "execution_count": 9,
   "id": "c5833dab-3cd7-4a7d-8852-87804a12ef12",
   "metadata": {},
   "outputs": [],
   "source": [
    "new_data= data_cleaned .drop_duplicates()"
   ]
  },
  {
   "cell_type": "code",
   "execution_count": 28,
   "id": "bd95d1d4-e1c5-4101-81b3-27457a641858",
   "metadata": {},
   "outputs": [],
   "source": [
    "new_data['Purchase Date'] = pd.to_datetime(new_data['Purchase Date'])"
   ]
  },
  {
   "cell_type": "code",
   "execution_count": 29,
   "id": "ec66b472-6a24-4074-9ab5-bf0a002d316d",
   "metadata": {},
   "outputs": [],
   "source": [
    "new_data['Year'] = new_data['Purchase Date'].dt.year"
   ]
  },
  {
   "cell_type": "code",
   "execution_count": 30,
   "id": "00d2cc59-7fad-4833-bb30-bb54bac94845",
   "metadata": {},
   "outputs": [],
   "source": [
    "if 'Total Purchase' not in new_data.columns:\n",
    "    new_data['Total Purchase'] = new_data['Quantity'] * new_data['Product Price']"
   ]
  },
  {
   "cell_type": "code",
   "execution_count": 31,
   "id": "724c5299-11cb-43bc-99c8-766453ac5638",
   "metadata": {},
   "outputs": [
    {
     "data": {
      "text/html": [
       "<div>\n",
       "<style scoped>\n",
       "    .dataframe tbody tr th:only-of-type {\n",
       "        vertical-align: middle;\n",
       "    }\n",
       "\n",
       "    .dataframe tbody tr th {\n",
       "        vertical-align: top;\n",
       "    }\n",
       "\n",
       "    .dataframe thead th {\n",
       "        text-align: right;\n",
       "    }\n",
       "</style>\n",
       "<table border=\"1\" class=\"dataframe\">\n",
       "  <thead>\n",
       "    <tr style=\"text-align: right;\">\n",
       "      <th></th>\n",
       "      <th>Customer ID</th>\n",
       "      <th>Purchase Date</th>\n",
       "      <th>Product Category</th>\n",
       "      <th>Product Price</th>\n",
       "      <th>Quantity</th>\n",
       "      <th>Total Purchase Amount</th>\n",
       "      <th>Payment Method</th>\n",
       "      <th>Customer Age</th>\n",
       "      <th>Returns</th>\n",
       "      <th>Customer Name</th>\n",
       "      <th>Age</th>\n",
       "      <th>Gender</th>\n",
       "      <th>Churn</th>\n",
       "      <th>Year</th>\n",
       "      <th>Total Purchase</th>\n",
       "    </tr>\n",
       "  </thead>\n",
       "  <tbody>\n",
       "    <tr>\n",
       "      <th>0</th>\n",
       "      <td>44605</td>\n",
       "      <td>2023-05-03 21:30:02</td>\n",
       "      <td>Home</td>\n",
       "      <td>177</td>\n",
       "      <td>1</td>\n",
       "      <td>2427</td>\n",
       "      <td>PayPal</td>\n",
       "      <td>31</td>\n",
       "      <td>1.0</td>\n",
       "      <td>John Rivera</td>\n",
       "      <td>31</td>\n",
       "      <td>Female</td>\n",
       "      <td>0</td>\n",
       "      <td>2023</td>\n",
       "      <td>177</td>\n",
       "    </tr>\n",
       "    <tr>\n",
       "      <th>1</th>\n",
       "      <td>44605</td>\n",
       "      <td>2021-05-16 13:57:44</td>\n",
       "      <td>Electronics</td>\n",
       "      <td>174</td>\n",
       "      <td>3</td>\n",
       "      <td>2448</td>\n",
       "      <td>PayPal</td>\n",
       "      <td>31</td>\n",
       "      <td>1.0</td>\n",
       "      <td>John Rivera</td>\n",
       "      <td>31</td>\n",
       "      <td>Female</td>\n",
       "      <td>0</td>\n",
       "      <td>2021</td>\n",
       "      <td>522</td>\n",
       "    </tr>\n",
       "    <tr>\n",
       "      <th>2</th>\n",
       "      <td>44605</td>\n",
       "      <td>2020-07-13 06:16:57</td>\n",
       "      <td>Books</td>\n",
       "      <td>413</td>\n",
       "      <td>1</td>\n",
       "      <td>2345</td>\n",
       "      <td>Credit Card</td>\n",
       "      <td>31</td>\n",
       "      <td>1.0</td>\n",
       "      <td>John Rivera</td>\n",
       "      <td>31</td>\n",
       "      <td>Female</td>\n",
       "      <td>0</td>\n",
       "      <td>2020</td>\n",
       "      <td>413</td>\n",
       "    </tr>\n",
       "    <tr>\n",
       "      <th>3</th>\n",
       "      <td>44605</td>\n",
       "      <td>2023-01-17 13:14:36</td>\n",
       "      <td>Electronics</td>\n",
       "      <td>396</td>\n",
       "      <td>3</td>\n",
       "      <td>937</td>\n",
       "      <td>Cash</td>\n",
       "      <td>31</td>\n",
       "      <td>0.0</td>\n",
       "      <td>John Rivera</td>\n",
       "      <td>31</td>\n",
       "      <td>Female</td>\n",
       "      <td>0</td>\n",
       "      <td>2023</td>\n",
       "      <td>1188</td>\n",
       "    </tr>\n",
       "    <tr>\n",
       "      <th>4</th>\n",
       "      <td>44605</td>\n",
       "      <td>2021-05-01 11:29:27</td>\n",
       "      <td>Books</td>\n",
       "      <td>259</td>\n",
       "      <td>4</td>\n",
       "      <td>2598</td>\n",
       "      <td>PayPal</td>\n",
       "      <td>31</td>\n",
       "      <td>1.0</td>\n",
       "      <td>John Rivera</td>\n",
       "      <td>31</td>\n",
       "      <td>Female</td>\n",
       "      <td>0</td>\n",
       "      <td>2021</td>\n",
       "      <td>1036</td>\n",
       "    </tr>\n",
       "  </tbody>\n",
       "</table>\n",
       "</div>"
      ],
      "text/plain": [
       "   Customer ID       Purchase Date Product Category  Product Price  Quantity  \\\n",
       "0        44605 2023-05-03 21:30:02             Home            177         1   \n",
       "1        44605 2021-05-16 13:57:44      Electronics            174         3   \n",
       "2        44605 2020-07-13 06:16:57            Books            413         1   \n",
       "3        44605 2023-01-17 13:14:36      Electronics            396         3   \n",
       "4        44605 2021-05-01 11:29:27            Books            259         4   \n",
       "\n",
       "   Total Purchase Amount Payment Method  Customer Age  Returns Customer Name  \\\n",
       "0                   2427         PayPal            31      1.0   John Rivera   \n",
       "1                   2448         PayPal            31      1.0   John Rivera   \n",
       "2                   2345    Credit Card            31      1.0   John Rivera   \n",
       "3                    937           Cash            31      0.0   John Rivera   \n",
       "4                   2598         PayPal            31      1.0   John Rivera   \n",
       "\n",
       "   Age  Gender  Churn  Year  Total Purchase  \n",
       "0   31  Female      0  2023             177  \n",
       "1   31  Female      0  2021             522  \n",
       "2   31  Female      0  2020             413  \n",
       "3   31  Female      0  2023            1188  \n",
       "4   31  Female      0  2021            1036  "
      ]
     },
     "execution_count": 31,
     "metadata": {},
     "output_type": "execute_result"
    }
   ],
   "source": [
    "new_data.head()"
   ]
  },
  {
   "cell_type": "markdown",
   "id": "53674f5c-27ac-4815-8ce6-57a1c8bbfee6",
   "metadata": {},
   "source": [
    "##### Top Customers"
   ]
  },
  {
   "cell_type": "code",
   "execution_count": 32,
   "id": "4f7c424f-7438-4574-9bf4-be2e4e96abca",
   "metadata": {},
   "outputs": [
    {
     "data": {
      "text/plain": [
       "Customer Name\n",
       "Michael Smith       75687\n",
       "Michael Johnson     64332\n",
       "Michael Brown       63753\n",
       "James Smith         61008\n",
       "John Johnson        59643\n",
       "John Smith          56023\n",
       "Michael Williams    54638\n",
       "Matthew Smith       54464\n",
       "Michael Jones       54285\n",
       "Jennifer Smith      53393\n",
       "Name: Total Purchase, dtype: int64"
      ]
     },
     "execution_count": 32,
     "metadata": {},
     "output_type": "execute_result"
    }
   ],
   "source": [
    "top_customers = new_data.groupby('Customer Name')['Total Purchase'].sum().sort_values(ascending=False).head(10)\n",
    "top_customers"
   ]
  },
  {
   "cell_type": "markdown",
   "id": "0ee2f8c8-491b-4817-94f2-55cc4e8a35fd",
   "metadata": {},
   "source": [
    "##### Popular Products"
   ]
  },
  {
   "cell_type": "code",
   "execution_count": 33,
   "id": "b5bd7d64-3039-4c53-ae2d-82e21a59df58",
   "metadata": {},
   "outputs": [
    {
     "data": {
      "text/plain": [
       "Product Category\n",
       "Clothing       153372\n",
       "Home           152745\n",
       "Electronics    152111\n",
       "Books          151332\n",
       "Name: Quantity, dtype: int64"
      ]
     },
     "execution_count": 33,
     "metadata": {},
     "output_type": "execute_result"
    }
   ],
   "source": [
    "popular_products = new_data.groupby('Product Category')['Quantity'].sum().sort_values(ascending=False).head(10)\n",
    "popular_products"
   ]
  },
  {
   "cell_type": "markdown",
   "id": "66788203-dc35-4fa3-a64e-fe617b85ac5e",
   "metadata": {},
   "source": [
    "##### Sales Trends"
   ]
  },
  {
   "cell_type": "code",
   "execution_count": 35,
   "id": "9e5eac35-35f8-4159-bc14-75dc94a09586",
   "metadata": {},
   "outputs": [
    {
     "data": {
      "text/plain": [
       "Year\n",
       "2020    42205536\n",
       "2021    41841335\n",
       "2022    42078911\n",
       "2023    29373714\n",
       "Name: Total Purchase, dtype: int64"
      ]
     },
     "execution_count": 35,
     "metadata": {},
     "output_type": "execute_result"
    }
   ],
   "source": [
    "yearly_sales = new_data.groupby('Year')['Total Purchase'].sum()\n",
    "yearly_sales"
   ]
  },
  {
   "cell_type": "markdown",
   "id": "50cf3360-73a9-4ba2-8dbc-f1eecef7cab9",
   "metadata": {},
   "source": [
    "##### Data Visualization"
   ]
  },
  {
   "cell_type": "markdown",
   "id": "2ae5feab-f07f-42c6-bda3-fcc4fffc3bef",
   "metadata": {},
   "source": [
    "**Top Customers Bar Plot**"
   ]
  },
  {
   "cell_type": "code",
   "execution_count": 26,
   "id": "8e70fd2d-c6d6-4cfe-b997-d952623d1870",
   "metadata": {},
   "outputs": [
    {
     "data": {
      "image/png": "[encoded data removed]",
      "text/plain": [
       "<Figure size 1200x600 with 1 Axes>"
      ]
     },
     "metadata": {},
     "output_type": "display_data"
    }
   ],
   "source": [
    "plt.figure(figsize=(12, 6))\n",
    "plt.subplot(1, 3, 1)\n",
    "top_customers.plot(kind='bar', color='blue')\n",
    "plt.title('Top 10 Customers by Total Purchase')\n",
    "plt.xlabel('Customer ID')\n",
    "plt.ylabel('Total Purchase')\n",
    "plt.xticks(rotation=45, ha='right')  \n",
    "plt.tight_layout()\n",
    "plt.show()\n"
   ]
  },
  {
   "cell_type": "markdown",
   "id": "82a6c5bb-1e4f-44e0-afd5-3b46e3cde980",
   "metadata": {},
   "source": [
    " **Popular Products Bar Plot**"
   ]
  },
  {
   "cell_type": "code",
   "execution_count": 25,
   "id": "9f35f998-0b55-42d4-94b5-0599ac03e670",
   "metadata": {},
   "outputs": [
    {
     "data": {
      "image/png": "[encoded data removed]",
      "text/plain": [
       "<Figure size 1200x600 with 1 Axes>"
      ]
     },
     "metadata": {},
     "output_type": "display_data"
    }
   ],
   "source": [
    "plt.figure(figsize=(12, 6))\n",
    "plt.subplot(1, 3, 1)\n",
    "top_customers.plot(kind='bar', color='orange')\n",
    "plt.title('Top 10 Popular Products')\n",
    "plt.xlabel('Product Name')\n",
    "plt.ylabel('Quantity Sold')\n",
    "plt.xticks(rotation=45, ha='right')  \n",
    "plt.tight_layout()\n",
    "plt.show()"
   ]
  },
  {
   "cell_type": "markdown",
   "id": "879976c4-f8ad-4e64-b544-55317e53c683",
   "metadata": {},
   "source": [
    "**Sales Trends Line Plot**"
   ]
  },
  {
   "cell_type": "code",
   "execution_count": 36,
   "id": "66cae059-5c71-41b6-9e08-c7aeb64dea9e",
   "metadata": {},
   "outputs": [
    {
     "data": {
      "image/png": "[encoded data removed]",
      "text/plain": [
       "<Figure size 640x480 with 1 Axes>"
      ]
     },
     "metadata": {},
     "output_type": "display_data"
    }
   ],
   "source": [
    "plt.subplot(1, 3, 3)\n",
    "yearly_sales.plot(kind='line', marker='o', color='green')\n",
    "plt.title('Yearly Sales Trends')\n",
    "plt.xlabel('Year')\n",
    "plt.ylabel('Total Sales')\n",
    "plt.grid(True)"
   ]
  },
  {
   "cell_type": "code",
   "execution_count": 37,
   "id": "ecc0dae6-a44c-4368-90a0-cccd22aa2ffa",
   "metadata": {},
   "outputs": [
    {
     "name": "stdout",
     "output_type": "stream",
     "text": [
      "\n",
      "Top 10 Customers by Total Purchase:\n",
      " Customer Name\n",
      "Michael Smith       75687\n",
      "Michael Johnson     64332\n",
      "Michael Brown       63753\n",
      "James Smith         61008\n",
      "John Johnson        59643\n",
      "John Smith          56023\n",
      "Michael Williams    54638\n",
      "Matthew Smith       54464\n",
      "Michael Jones       54285\n",
      "Jennifer Smith      53393\n",
      "Name: Total Purchase, dtype: int64\n",
      "\n",
      "Top 10 Popular Products by Quantity:\n",
      " Product Category\n",
      "Clothing       153372\n",
      "Home           152745\n",
      "Electronics    152111\n",
      "Books          151332\n",
      "Name: Quantity, dtype: int64\n",
      "\n",
      "Yearly Sales Trends:\n",
      " Year\n",
      "2020    42205536\n",
      "2021    41841335\n",
      "2022    42078911\n",
      "2023    29373714\n",
      "Name: Total Purchase, dtype: int64\n"
     ]
    }
   ],
   "source": [
    "print(\"\\nTop 10 Customers by Total Purchase:\\n\", top_customers)\n",
    "print(\"\\nTop 10 Popular Products by Quantity:\\n\", popular_products)\n",
    "print(\"\\nYearly Sales Trends:\\n\", yearly_sales)"
   ]
  },
  {
   "cell_type": "code",
   "execution_count": 38,
   "id": "8969f1e3-6a30-448a-b5f4-d882345f52a6",
   "metadata": {},
   "outputs": [
    {
     "data": {
      "text/plain": [
       "<Figure size 640x480 with 0 Axes>"
      ]
     },
     "metadata": {},
     "output_type": "display_data"
    }
   ],
   "source": [
    "plt.savefig('top_customers.png')\n",
    "plt.savefig('popular_products.png')\n",
    "plt.savefig('yearly_sales_trends.png')"
   ]
  },
  {
   "cell_type": "code",
   "execution_count": null,
   "id": "7e6da2a7-166f-4487-af3b-c79a75a9a594",
   "metadata": {},
   "outputs": [],
   "source": []
  }
 ],
 "metadata": {
  "kernelspec": {
   "display_name": "Python 3 (ipykernel)",
   "language": "python",
   "name": "python3"
  },
  "language_info": {
   "codemirror_mode": {
    "name": "ipython",
    "version": 3
   },
   "file_extension": ".py",
   "mimetype": "text/x-python",
   "name": "python",
   "nbconvert_exporter": "python",
   "pygments_lexer": "ipython3",
   "version": "3.12.1"
  }
 },
 "nbformat": 4,
 "nbformat_minor": 5
}
