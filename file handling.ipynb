{
 "cells": [
  {
   "cell_type": "markdown",
   "id": "773d55de-8018-4545-b1e4-0308c16a17e7",
   "metadata": {},
   "source": [
    "#### Exercise 1: Reading and Writing a Text File"
   ]
  },
  {
   "cell_type": "code",
   "execution_count": 1,
   "id": "c5f5856b-ef68-4d0a-bbc7-4af345f90dc3",
   "metadata": {},
   "outputs": [],
   "source": [
    "with open('sample.txt','w') as file:\n",
    "    file.write(\"HELLO WORLD \\n\")\n",
    "    file.write(\"welcome to the world of programming\")\n"
   ]
  },
  {
   "cell_type": "code",
   "execution_count": 2,
   "id": "ee44726d-7b68-4692-b5c0-bc7f3c0eb780",
   "metadata": {},
   "outputs": [
    {
     "name": "stdout",
     "output_type": "stream",
     "text": [
      "HELLO WORLD\n",
      "welcome to the world of programming\n"
     ]
    }
   ],
   "source": [
    "with open(\"sample.txt\", \"r\") as file:\n",
    "    for line in file:\n",
    "        print(line.strip())"
   ]
  },
  {
   "cell_type": "markdown",
   "id": "252e0aa9-3bde-43ed-a03c-7a14fd7b9a14",
   "metadata": {},
   "source": [
    "#### Exercise 2: Counting Words in a Text File"
   ]
  },
  {
   "cell_type": "code",
   "execution_count": 3,
   "id": "80000ba2-1f81-4c44-ada3-0ca09caef8e7",
   "metadata": {},
   "outputs": [
    {
     "name": "stdout",
     "output_type": "stream",
     "text": [
      "Total word count: 8\n"
     ]
    }
   ],
   "source": [
    "word_count = 0\n",
    "with open(\"sample.txt\", \"r\") as file:\n",
    "    for line in file:\n",
    "        words = line.split()\n",
    "        word_count += len(words)\n",
    "print(\"Total word count:\", word_count)"
   ]
  },
  {
   "cell_type": "markdown",
   "id": "bc633cf9-a1c9-4fcd-ad4e-2fd58eb969c2",
   "metadata": {},
   "source": [
    "#### Exercise 3: Searching for a Word in a Text File"
   ]
  },
  {
   "cell_type": "code",
   "execution_count": 4,
   "id": "f6d5c997-7342-4791-8c44-115250a12752",
   "metadata": {},
   "outputs": [
    {
     "name": "stdin",
     "output_type": "stream",
     "text": [
      "Enter the word to search:  to\n"
     ]
    },
    {
     "name": "stdout",
     "output_type": "stream",
     "text": [
      "The word 'to' appears 1 times in the file.\n"
     ]
    }
   ],
   "source": [
    "word_to_search = input(\"Enter the word to search: \").lower()\n",
    "word_count = 0\n",
    "with open(\"sample.txt\", \"r\") as file:\n",
    "    for line in file:\n",
    "        word_count += line.lower().split().count(word_to_search)\n",
    "\n",
    "print(f\"The word '{word_to_search}' appears {word_count} times in the file.\")"
   ]
  },
  {
   "cell_type": "markdown",
   "id": "6cfb8ff0-ca1a-4775-afdd-2038ebcdd7e5",
   "metadata": {},
   "source": [
    "#### Exercise 4: Counting Words in a Text File"
   ]
  },
  {
   "cell_type": "code",
   "execution_count": 5,
   "id": "0d33b6c3-4d67-4580-b2f0-1124f9bdfa7c",
   "metadata": {},
   "outputs": [
    {
     "name": "stdout",
     "output_type": "stream",
     "text": [
      "Total word count: 13\n"
     ]
    }
   ],
   "source": [
    "with open(\"sample.txt\", \"r\") as file:\n",
    "    for line in file:\n",
    "        word = line.split()\n",
    "        word_count += len(words)\n",
    "print(\"Total word count:\", word_count)\n"
   ]
  },
  {
   "cell_type": "markdown",
   "id": "4f26fc90-bb39-434f-8e6b-38648cbd7dea",
   "metadata": {},
   "source": [
    "#### Exercise 5: Copying Content from One File to Another"
   ]
  },
  {
   "cell_type": "code",
   "execution_count": 6,
   "id": "1e434d86-f640-4ac3-bc4b-4b218646412d",
   "metadata": {},
   "outputs": [
    {
     "name": "stdout",
     "output_type": "stream",
     "text": [
      "HELLO WORLD \n",
      "welcome to the world of programming\n"
     ]
    }
   ],
   "source": [
    "with open(\"sample.txt\", \"r\") as file, open(\"copy_sample.txt\", \"w\") as copy_file:\n",
    "    for line in file:\n",
    "        copy_file.write(line)\n",
    "# verify copy\n",
    "with open(\"copy_sample.txt\", \"r\") as file:\n",
    "    print(file.read())"
   ]
  },
  {
   "cell_type": "markdown",
   "id": "b7d1db42-3f92-4aa6-9320-f9e7fc7b8c2b",
   "metadata": {},
   "source": [
    "#### Exercise 6: Writing Data to a CSV File"
   ]
  },
  {
   "cell_type": "code",
   "execution_count": 9,
   "id": "2263fd28-54b5-4835-b76d-c75315efb93d",
   "metadata": {},
   "outputs": [
    {
     "name": "stdout",
     "output_type": "stream",
     "text": [
      "Name,Age,Grade\n",
      "John,14,A\n",
      "Emma,13,B\n",
      "Ryan,15,A\n",
      "\n"
     ]
    }
   ],
   "source": [
    "import csv\n",
    "with open(\"students.csv\", \"w\", newline=\"\") as file:\n",
    "    writer = csv.writer(file)\n",
    "    writer.writerow([\"Name\", \"Age\", \"Grade\"])\n",
    "    writer.writerow([\"John\", 14, \"A\"])\n",
    "    writer.writerow([\"Emma\", 13, \"B\"])\n",
    "    writer.writerow([\"Ryan\", 15, \"A\"])\n",
    "with open(\"students.csv\", \"r\") as file:\n",
    "    reader = csv.reader(file)\n",
    "    print(file.read())"
   ]
  },
  {
   "cell_type": "markdown",
   "id": "ceb2c26f-e5e8-4d0e-a782-cd0679401feb",
   "metadata": {},
   "source": [
    "#### Exercise 6: Updating Records in a CSV File"
   ]
  },
  {
   "cell_type": "code",
   "execution_count": 1,
   "id": "9913700a-59e6-41ea-abec-888279821682",
   "metadata": {},
   "outputs": [
    {
     "name": "stdout",
     "output_type": "stream",
     "text": [
      "Name,Age,Grade\n",
      "John,14,A\n",
      "Emma,13,A\n",
      "Ryan,15,A\n",
      "\n"
     ]
    }
   ],
   "source": [
    "import csv\n",
    "# Update grades in a new file\n",
    "with open(\"students.csv\", \"r\") as file, open(\"updated_students.csv\", \"w\", newline=\"\") as new_file:\n",
    "    reader = csv.reader(file)\n",
    "    writer = csv.writer(new_file)\n",
    "    for row in reader:\n",
    "        if row[2] == \"B\":\n",
    "            row[2] = \"A\"\n",
    "        writer.writerow(row)\n",
    "\n",
    "# Print updated contents\n",
    "with open(\"updated_students.csv\", \"r\") as file:\n",
    "    print(file.read())\n"
   ]
  },
  {
   "cell_type": "markdown",
   "id": "0505f645-c940-4fb8-b4b2-42efc8ee2334",
   "metadata": {},
   "source": [
    "#### Exercise 7: Reading and Summing Numbers in a CSV File"
   ]
  },
  {
   "cell_type": "code",
   "execution_count": null,
   "id": "b6ae54c9-1074-4e50-8827-4e15d06c01f2",
   "metadata": {},
   "outputs": [],
   "source": [
    "import csv\n",
    "total_sales = 0\n",
    "with open(\"sales.csv\", \"r\") as file:\n",
    "    reader = csv.reader(file)\n",
    "    next(reader)  \n",
    "    for row in reader:\n",
    "        total_sales += int(row[1]) \n",
    "print(\"Total sales amount:\", total_sales)\n"
   ]
  }
 ],
 "metadata": {
  "kernelspec": {
   "display_name": "Python 3 (ipykernel)",
   "language": "python",
   "name": "python3"
  },
  "language_info": {
   "codemirror_mode": {
    "name": "ipython",
    "version": 3
   },
   "file_extension": ".py",
   "mimetype": "text/x-python",
   "name": "python",
   "nbconvert_exporter": "python",
   "pygments_lexer": "ipython3",
   "version": "3.12.1"
  }
 },
 "nbformat": 4,
 "nbformat_minor": 5
}
