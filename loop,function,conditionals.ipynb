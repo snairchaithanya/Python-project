{
 "cells": [
  {
   "cell_type": "markdown",
   "id": "c9d027b1-69b4-4105-9d21-d291e6cbd01e",
   "metadata": {},
   "source": [
    "#### Loops and Conditionals\n",
    "1. Write a program to check if a number is prime.\n",
    "   \n",
    "2. Create a function that takes a list of integers and returns a list of only the even numbers.\n",
    "   \n",
    "3. Generate a list of numbers from 1 to 100 and use a loop to create a new list containing only the numbers that are divisible by both 3 and 5."
   ]
  },
  {
   "cell_type": "markdown",
   "id": "07186e3b-f97b-43d1-a470-cc02f3319d04",
   "metadata": {},
   "source": [
    "1. Write a program to check if a number is prime."
   ]
  },
  {
   "cell_type": "code",
   "execution_count": 4,
   "id": "6fbe907c-28fa-4cce-bb92-a09cb6d5601b",
   "metadata": {},
   "outputs": [
    {
     "name": "stdin",
     "output_type": "stream",
     "text": [
      "Enter a number : 5\n"
     ]
    },
    {
     "name": "stdout",
     "output_type": "stream",
     "text": [
      "number is a prime number\n"
     ]
    }
   ],
   "source": [
    "num = int(input(\"Enter a number :\"))\n",
    "if num <= 0 :\n",
    "    print(\"This is not a prime number\")\n",
    "else:\n",
    "    for i in range(2,num):\n",
    "        if num % i == 0 :\n",
    "            print(\"number is not prime\")\n",
    "            break\n",
    "    else:\n",
    "        print(\"number is a prime number\")\n"
   ]
  },
  {
   "cell_type": "markdown",
   "id": "c7c655cd-06b1-4d38-8597-1d452f96933b",
   "metadata": {},
   "source": [
    "2. Create a function that takes a list of integers and returns a list of only the even numbers."
   ]
  },
  {
   "cell_type": "code",
   "execution_count": 7,
   "id": "b7cf5ebf-2bb3-4d5d-8cb7-ad7ebe59f51d",
   "metadata": {},
   "outputs": [
    {
     "name": "stdout",
     "output_type": "stream",
     "text": [
      "[44, 54, 78]\n"
     ]
    }
   ],
   "source": [
    "num = [23,44,45,54,57,67,77,78]\n",
    "even=[]\n",
    "for i in num:\n",
    "    if i % 2 == 0 :\n",
    "        even.append(i)\n",
    "print(even)\n",
    "           \n",
    "    \n",
    "\n",
    "    "
   ]
  },
  {
   "cell_type": "markdown",
   "id": "a61b7ac3-a690-4fbe-be4f-b328b3b369f4",
   "metadata": {},
   "source": [
    "3. generate a list of numbers from 1 to 100 and use a loop to create a new list containing only the numbers that are divisible by both 3 and 5."
   ]
  },
  {
   "cell_type": "code",
   "execution_count": 12,
   "id": "5927c4aa-0e31-44d4-9f0e-b72bc87590b8",
   "metadata": {
    "scrolled": true
   },
   "outputs": [
    {
     "name": "stdout",
     "output_type": "stream",
     "text": [
      "[15, 30, 45, 60, 75, 90]\n"
     ]
    }
   ],
   "source": [
    "def number_divisible_by_5_and_3(number):\n",
    "    divisible=[]\n",
    "    for i in number:\n",
    "        if i % 3 == 0  and i % 5 ==0 :\n",
    "            divisible.append(i)\n",
    "    return divisible\n",
    "print(number_divisible_by_5_and_3(range(1, 101)))\n",
    "       \n",
    "\n",
    "\n"
   ]
  },
  {
   "cell_type": "markdown",
   "id": "e8a2ad91-673d-4f31-9281-17cbf9d1940f",
   "metadata": {},
   "source": [
    "4 . Write a function that takes a number n and prints numbers from 1 to n. For each multiple of 3, print \"Fizz\" instead of the number, and for each multiple of 5, print \"Buzz\". For numbers that are multiples of both 3 and 5, print \"FizzBuzz\"."
   ]
  },
  {
   "cell_type": "code",
   "execution_count": 17,
   "id": "03774514-9fcb-4153-b4cf-7c46c75da54e",
   "metadata": {},
   "outputs": [
    {
     "name": "stdout",
     "output_type": "stream",
     "text": [
      "1\n",
      "2\n",
      "Fizz\n",
      "4\n",
      "Buzz\n",
      "Fizz\n",
      "7\n",
      "8\n",
      "Fizz\n",
      "Buzz\n"
     ]
    }
   ],
   "source": [
    "def fizzbuzz(n):\n",
    "    for i in range(1,n+1):\n",
    "        if i % 3 == 0 and i % 5==0:\n",
    "            print(\"Fizz buzz\")\n",
    "        elif i % 3 ==0 :\n",
    "            print(\"Fizz\")\n",
    "        elif i % 5 == 0 :\n",
    "            print(\"Buzz\")\n",
    "        else:\n",
    "            print(i)\n",
    "fizzbuzz(10)"
   ]
  },
  {
   "cell_type": "markdown",
   "id": "c4704153-c9c6-44c1-9251-13214e0b0667",
   "metadata": {},
   "source": [
    "#### Pattern Questions"
   ]
  },
  {
   "cell_type": "markdown",
   "id": "8ab6c543-ded1-456a-a720-cd4ed5541fed",
   "metadata": {},
   "source": [
    "1. **Right-Angled Triangle**\n",
    "\n",
    "Create a right-angled triangle pattern with asterisks "
   ]
  },
  {
   "cell_type": "code",
   "execution_count": 20,
   "id": "0426c8cd-10ba-4edb-8dff-e8f8fe411fc9",
   "metadata": {},
   "outputs": [
    {
     "name": "stdout",
     "output_type": "stream",
     "text": [
      "*\n",
      "**\n",
      "***\n",
      "****\n",
      "*****\n"
     ]
    }
   ],
   "source": [
    "def right_angled_triangle(n):\n",
    "       for i in range(1,n+1):\n",
    "           print('*'*i)\n",
    "right_angled_triangle(5)"
   ]
  },
  {
   "cell_type": "markdown",
   "id": "3b1e016f-eb3d-4eaa-9c85-f9ac25084392",
   "metadata": {},
   "source": [
    "2. **Inverted Right-Angled Triangle**\n",
    "   \n",
    "Create an inverted right-angled triangle pattern with asterisks (*)."
   ]
  },
  {
   "cell_type": "code",
   "execution_count": 21,
   "id": "10b31bd0-0413-4beb-8dc6-57dd9193703b",
   "metadata": {},
   "outputs": [
    {
     "name": "stdout",
     "output_type": "stream",
     "text": [
      "*****\n",
      "****\n",
      "***\n",
      "**\n",
      "*\n"
     ]
    }
   ],
   "source": [
    "def  inverted_right_angled_triangle(n):\n",
    "                for i in range(n,0,-1):\n",
    "                    print('*'*i)\n",
    "inverted_right_angled_triangle(5)\n",
    "                     "
   ]
  },
  {
   "cell_type": "markdown",
   "id": "571121ac-7457-455d-8d67-2a2adaafd998",
   "metadata": {},
   "source": [
    "3. **Pyramid Pattern**\n",
    "   \n",
    "Create a pyramid pattern with asterisks (*)."
   ]
  },
  {
   "cell_type": "code",
   "execution_count": 23,
   "id": "d3072c43-8193-43d1-a525-e4d47fe2e1a4",
   "metadata": {},
   "outputs": [
    {
     "name": "stdout",
     "output_type": "stream",
     "text": [
      "    *\n",
      "   ***\n",
      "  *****\n",
      " *******\n",
      "*********\n"
     ]
    }
   ],
   "source": [
    "def pyramid(n):\n",
    "    for i in  range(n):\n",
    "        print(' ' *(n-i-1)+'*'*(2*i+1))\n",
    "pyramid(5)"
   ]
  },
  {
   "cell_type": "markdown",
   "id": "7d641407-8d6b-40c4-88a0-fca034ed8f13",
   "metadata": {},
   "source": [
    "4. **Diamond Pattern**\n",
    "   \n",
    "Create a diamond pattern with asterisks (*)."
   ]
  },
  {
   "cell_type": "code",
   "execution_count": 32,
   "id": "91be1436-777e-4ce6-8a8e-f3f4284005f5",
   "metadata": {},
   "outputs": [
    {
     "name": "stdout",
     "output_type": "stream",
     "text": [
      "    *\n",
      "   ***\n",
      "  *****\n",
      " *******\n",
      "*********\n",
      " *******\n",
      "  *****\n",
      "   ***\n",
      "    *\n"
     ]
    }
   ],
   "source": [
    "def diamond(n):\n",
    "    for i in range(1, n + 1):\n",
    "        print(' ' * (n - i) + '*' * (2 * i - 1))\n",
    "    \n",
    "   \n",
    "    for i in range(n - 1, 0, -1):\n",
    "        print(' ' * (n - i) + '*' * (2 * i - 1))\n",
    "\n",
    "\n",
    "diamond(5)"
   ]
  },
  {
   "cell_type": "markdown",
   "id": "ed99e74e-b4bb-4449-b7dd-fccb1245a79f",
   "metadata": {},
   "source": [
    "#### 5. Simple Interest Calculator"
   ]
  },
  {
   "cell_type": "code",
   "execution_count": 4,
   "id": "ef0d09ae-616d-40a0-afb4-7180b10bb5cc",
   "metadata": {},
   "outputs": [
    {
     "name": "stdout",
     "output_type": "stream",
     "text": [
      "4725000.0\n"
     ]
    }
   ],
   "source": [
    "def simple_interest(principal, rate, time) :\n",
    "    interest=(principal*rate*time)/100\n",
    "    print(interest)\n",
    "simple_interest(4500000, 7, 15)\n",
    "    "
   ]
  },
  {
   "cell_type": "code",
   "execution_count": null,
   "id": "48430275-429f-48a4-96af-4e452d55105d",
   "metadata": {},
   "outputs": [],
   "source": []
  }
 ],
 "metadata": {
  "kernelspec": {
   "display_name": "Python 3 (ipykernel)",
   "language": "python",
   "name": "python3"
  },
  "language_info": {
   "codemirror_mode": {
    "name": "ipython",
    "version": 3
   },
   "file_extension": ".py",
   "mimetype": "text/x-python",
   "name": "python",
   "nbconvert_exporter": "python",
   "pygments_lexer": "ipython3",
   "version": "3.12.1"
  }
 },
 "nbformat": 4,
 "nbformat_minor": 5
}
